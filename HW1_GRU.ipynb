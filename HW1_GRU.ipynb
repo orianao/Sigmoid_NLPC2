{
 "cells": [
  {
   "cell_type": "code",
   "execution_count": 1,
   "id": "fe4b7ce0-d761-4858-8f31-543eee2407b2",
   "metadata": {},
   "outputs": [],
   "source": [
    "import torch\n",
    "import torch.nn as nn\n",
    "import pandas as pd\n",
    "import numpy as np\n",
    "import matplotlib.pyplot as plt\n",
    "import seaborn as sns\n",
    "import re\n",
    "from nltk.corpus import stopwords"
   ]
  },
  {
   "cell_type": "code",
   "execution_count": 3,
   "id": "b6f5ff83-fe4d-4849-9d0b-d47073ae8675",
   "metadata": {},
   "outputs": [],
   "source": [
    "df = pd.read_csv('twitter_training.csv', header=None, names=['cat','source','label','text'])"
   ]
  },
  {
   "cell_type": "code",
   "execution_count": 2,
   "id": "061a7efe-0a0d-4be7-a5bd-b1042435b30e",
   "metadata": {},
   "outputs": [],
   "source": [
    "# string processing functions\n",
    "def decontract(sentence):\n",
    "    sentence = re.sub(r\"n\\'t\", \" not\", sentence)\n",
    "    sentence = re.sub(r\"\\'re\", \" are\", sentence)\n",
    "    sentence = re.sub(r\"\\'s\", \" is\", sentence)\n",
    "    sentence = re.sub(r\"\\'d\", \" would\", sentence)\n",
    "    sentence = re.sub(r\"\\'ll\", \" will\", sentence)\n",
    "    sentence = re.sub(r\"\\'t\", \" not\", sentence)\n",
    "    sentence = re.sub(r\"\\'ve\", \" have\", sentence)\n",
    "    sentence = re.sub(r\"\\'m\", \" am\", sentence)\n",
    "    return sentence\n",
    "def cleanPunc(sentence): \n",
    "    cleaned = re.sub(r'[?|!|\\'|\"|#]',r'',sentence)\n",
    "    cleaned = re.sub(r'[.|,|)|(|\\|/]',r' ',cleaned)\n",
    "    cleaned = cleaned.strip()\n",
    "    cleaned = cleaned.replace(\"\\n\",\" \")\n",
    "    return cleaned\n",
    "def keepAlpha(sentence):\n",
    "    alpha_sent = \"\"\n",
    "    for word in sentence.split():\n",
    "        alpha_word = re.sub('[^a-z A-Z]+', '', word)\n",
    "        alpha_sent += alpha_word\n",
    "        alpha_sent += \" \"\n",
    "    alpha_sent = alpha_sent.strip()\n",
    "    return alpha_sent\n",
    "def removeStopWords(sentence):\n",
    "    global re_stop_words\n",
    "    return re_stop_words.sub(\"\", sentence)"
   ]
  },
  {
   "cell_type": "code",
   "execution_count": 4,
   "id": "382f4554-26eb-49e3-a071-7e128e304957",
   "metadata": {},
   "outputs": [],
   "source": [
    "df['text'] = df['text'].astype(str).apply(lambda x: re.sub(r'(\\w)(\\1{2,})', r'\\1',x))"
   ]
  },
  {
   "cell_type": "code",
   "execution_count": 5,
   "id": "c23314be-f074-4586-a37b-648e153adcde",
   "metadata": {},
   "outputs": [],
   "source": [
    "df['token_size'] = df['text'].apply(lambda x: len(x.split(' ')))\n",
    "df = df.sample(10000)"
   ]
  },
  {
   "cell_type": "code",
   "execution_count": 6,
   "id": "2e090ae6-0f7f-4859-9153-1de11c04d529",
   "metadata": {},
   "outputs": [],
   "source": [
    "# Construct a vocabulary\n",
    "class ConstructVocab():\n",
    "    \n",
    "    def __init__(self, sentences):\n",
    "        self.sentences = sentences\n",
    "        self.word2idx = {}\n",
    "        self.idx2word = {}\n",
    "        self.vocab = set()\n",
    "        self.create_index()\n",
    "        \n",
    "    def create_index(self):\n",
    "        for sent in self.sentences:\n",
    "            self.vocab.update(sent.split(' '))\n",
    "        \n",
    "        #sort vacabulary\n",
    "        self.vocab = sorted(self.vocab)\n",
    "        \n",
    "        #add a padding token with index 0\n",
    "        self.word2idx['<pad>'] = 0\n",
    "        \n",
    "        #word to index mapping\n",
    "        for index, word in enumerate(self.vocab):\n",
    "            self.word2idx[word] = index + 1 # 0 is the pad\n",
    "            \n",
    "        #index to word mapping\n",
    "        for word, index in self.word2idx.items():\n",
    "            self.idx2word[index] = word\n",
    "            \n",
    "inputs = ConstructVocab(df['text'].values.tolist())"
   ]
  },
  {
   "cell_type": "code",
   "execution_count": 7,
   "id": "7a9fa0c6-dd5e-4228-beb6-c64283a831a9",
   "metadata": {},
   "outputs": [],
   "source": [
    "# computing the word mapping for each tweet\n",
    "input_tensor = [[inputs.word2idx[s] for s in es.split(' ')] for es in df['text']]"
   ]
  },
  {
   "cell_type": "code",
   "execution_count": 8,
   "id": "c4047ee1-7e1a-485e-8cf7-64159bafd352",
   "metadata": {},
   "outputs": [],
   "source": [
    "def max_length(tensor):\n",
    "    return max(len(t) for t in tensor)\n",
    "\n",
    "max_length_input = max_length(input_tensor)\n",
    "\n",
    "def pad_sequences(x, max_len):\n",
    "    padded = np.zeros((max_len), dtype=np.int64)\n",
    "    \n",
    "    if len(x) > max_len: padded[:] = x[:max_len]\n",
    "    else: padded[:len(x)] = x\n",
    "        \n",
    "    return padded\n",
    "\n",
    "# padding the tweets up to the length of the longest tweet\n",
    "input_tensor = [pad_sequences(x, max_length_input) for x in input_tensor]"
   ]
  },
  {
   "cell_type": "code",
   "execution_count": 9,
   "id": "cdc714cf-8743-4b51-8f02-c623c9d87f85",
   "metadata": {},
   "outputs": [],
   "source": [
    "from sklearn import preprocessing\n",
    "rates = list(set(df['label'].unique()))\n",
    "num_rates = len(rates)\n",
    "\n",
    "mlb = preprocessing.MultiLabelBinarizer()\n",
    "data_labels = [set(rat) & set(rates) for rat in df[['label']].values]\n",
    "bin_rates = mlb.fit_transform(data_labels)\n",
    "target_tensor = np.array(bin_rates.tolist())"
   ]
  },
  {
   "cell_type": "code",
   "execution_count": 10,
   "id": "6d7d907a-566f-4a6b-a788-6ce96c78b6c5",
   "metadata": {},
   "outputs": [],
   "source": [
    "from sklearn.model_selection import train_test_split\n",
    "\n",
    "X_train, X_val, y_train, y_val = train_test_split(input_tensor, target_tensor, test_size=0.2, random_state=1000)\n",
    "X_val, X_test, y_val, y_test = train_test_split(X_val, y_val, test_size=0.5, random_state=1000)"
   ]
  },
  {
   "cell_type": "code",
   "execution_count": 11,
   "id": "13b6529f-f622-4837-b7e6-4b466e7dccb9",
   "metadata": {},
   "outputs": [],
   "source": [
    "embedding_dim = 256\n",
    "units = 1024\n",
    "vocab_inp_size = len(inputs.word2idx)\n",
    "target_size = len(target_tensor[0])"
   ]
  },
  {
   "cell_type": "code",
   "execution_count": 12,
   "id": "d3a42396-d25a-4cd3-ae12-71d7ac909433",
   "metadata": {},
   "outputs": [],
   "source": [
    "# Use Dataset class to represent the dataset object\n",
    "import torch\n",
    "from torch.autograd import Variable\n",
    "from torch.utils.data import Dataset, DataLoader\n",
    "class MyData(Dataset):\n",
    "    def __init__(self, X, y):\n",
    "        self.data = X\n",
    "        self.target = y\n",
    "        self.length = [np.sum(1 - np.equal(x,0)) for x in X]\n",
    "        \n",
    "    def __getitem__(self, index):\n",
    "        x = self.data[index]\n",
    "        y = self.target[index]\n",
    "        x_len = self.length[index]\n",
    "        \n",
    "        return x, y, x_len\n",
    "    \n",
    "    def __len__(self):\n",
    "        return len(self.data)"
   ]
  },
  {
   "cell_type": "code",
   "execution_count": 13,
   "id": "338c5316-b958-4639-8554-3073619ead3e",
   "metadata": {},
   "outputs": [],
   "source": [
    "TRAIN_BUFFER_SIZE = len(X_train)\n",
    "VAL_BUFFER_SIZE = len(X_val)\n",
    "TEST_BUFFER_SIZE = len(X_test)\n",
    "BATCH_SIZE = 64\n",
    "\n",
    "TRAIN_N_BATCH = TRAIN_BUFFER_SIZE // BATCH_SIZE\n",
    "VAL_N_BATCH = VAL_BUFFER_SIZE // BATCH_SIZE\n",
    "TEST_N_BATCH = TEST_BUFFER_SIZE // BATCH_SIZE\n",
    "train_dataset = MyData(X_train, y_train)\n",
    "val_dataset = MyData(X_val, y_val)\n",
    "test_dataset = MyData(X_test, y_test)\n",
    "\n",
    "train_dataset = DataLoader(train_dataset, batch_size = BATCH_SIZE,\n",
    "                          drop_last=True, shuffle=True)\n",
    "val_dataset = DataLoader(val_dataset, batch_size = BATCH_SIZE,\n",
    "                          drop_last=True, shuffle=True)\n",
    "test_dataset = DataLoader(test_dataset, batch_size = BATCH_SIZE,\n",
    "                          drop_last=True, shuffle=True)"
   ]
  },
  {
   "cell_type": "code",
   "execution_count": 14,
   "id": "dd602b0c-3d3e-40ec-8e51-e9b80772f81d",
   "metadata": {},
   "outputs": [],
   "source": [
    "import torch.nn as nn\n",
    "\n",
    "class RateGRU(nn.Module):\n",
    "    \n",
    "    def __init__(self, vocab_size, embedding_dim, hidden_units, batch_sz, output_size):\n",
    "        super(RateGRU, self).__init__()\n",
    "        self.batch = batch_sz\n",
    "        self.vocab_size = vocab_size\n",
    "        self.embedding_dim = embedding_dim\n",
    "        self.hidden_units = hidden_units\n",
    "        self.output_size = output_size\n",
    "        \n",
    "        #layers\n",
    "        self.embedding = nn.Embedding(self.vocab_size, self.embedding_dim)\n",
    "        self.dropout = nn.Dropout(p=0.5)\n",
    "        self.gru = nn.GRU(self.embedding_dim, self.hidden_units)\n",
    "        self.fc = nn.Linear(self.hidden_units, self.output_size)\n",
    "        \n",
    "    def initialize_hidden_state(self, device):\n",
    "        return torch.zeros((1, self.batch, self.hidden_units)).to(device)\n",
    "    \n",
    "    def forward(self, x, lens, device):\n",
    "        x = self.embedding(x)\n",
    "        self.hidden = self.initialize_hidden_state(device)\n",
    "        output, self.hidden = self.gru(x, self.hidden)\n",
    "        out = output[-1, :, :]\n",
    "        out = self.dropout(out)\n",
    "        out = self.fc(out)\n",
    "        \n",
    "        return out, self.hidden"
   ]
  },
  {
   "cell_type": "code",
   "execution_count": 15,
   "id": "e496b206-a25c-41f7-b2ff-142b03cccfc0",
   "metadata": {},
   "outputs": [],
   "source": [
    "use_cuda = True if torch.cuda.is_available() else False\n",
    "device = torch.device(\"cuda:0\" if torch.cuda.is_available() else \"cpu\")\n",
    "model = RateGRU(vocab_inp_size, embedding_dim, units, BATCH_SIZE, target_size)\n",
    "model.to(device)\n",
    "\n",
    "#loss criterion and optimizer\n",
    "criterion = nn.CrossEntropyLoss()\n",
    "optimizer = torch.optim.Adam(model.parameters())\n",
    "\n",
    "def loss_function(y, prediction):\n",
    "    target = torch.max(y, 1)[1] \n",
    "    loss = criterion(prediction, target)\n",
    "    \n",
    "    return loss\n",
    "\n",
    "def accuracy(target, logit):\n",
    "    target = torch.max(target, 1)[1]\n",
    "    corrects = (torch.max(logit, 1)[1].data == target).sum()\n",
    "    accuracy = 100. * corrects / len(logit)\n",
    "    \n",
    "    return accuracy"
   ]
  },
  {
   "cell_type": "code",
   "execution_count": 35,
   "id": "df6b5f12-2f6b-4648-8da5-ee131177e165",
   "metadata": {},
   "outputs": [
    {
     "name": "stdout",
     "output_type": "stream",
     "text": [
      "0\n",
      "1\n",
      "2\n",
      "3\n",
      "4\n",
      "5\n",
      "6\n",
      "7\n",
      "8\n",
      "9\n"
     ]
    }
   ],
   "source": [
    "import time\n",
    "import matplotlib.pyplot as plt\n",
    "\n",
    "val_losses = []\n",
    "train_losses = []\n",
    "train_acc = []\n",
    "\n",
    "EPOCHS=10\n",
    "for epoch in range(EPOCHS):\n",
    "    print(epoch)\n",
    "    start = time.time()\n",
    "    total_loss = 0\n",
    "    train_accuracy, val_accuracy = 0, 0\n",
    "    i=0\n",
    "    for (batch, (inp, targ, lens)) in enumerate(train_dataset):\n",
    "        if np.random.rand()<0.1:\n",
    "            i+=1\n",
    "            loss = 0\n",
    "            predictions, _ = model(inp.permute(1, 0).to(device), lens, device)\n",
    "\n",
    "            loss += loss_function(targ.to(device), predictions)\n",
    "            batch_loss = (loss / int(targ.shape[1]))\n",
    "            total_loss += batch_loss\n",
    "\n",
    "            optimizer.zero_grad()\n",
    "            loss.backward()\n",
    "            optimizer.step()\n",
    "\n",
    "            batch_accuracy = accuracy(targ.to(device), predictions)\n",
    "            train_accuracy += batch_accuracy\n",
    "    train_losses.append(total_loss.item()/i)\n",
    "    train_acc.append(train_accuracy.item()/i)"
   ]
  },
  {
   "cell_type": "code",
   "execution_count": 36,
   "id": "62068a9b-a597-4e06-b57b-5ebad0d38fa0",
   "metadata": {},
   "outputs": [
    {
     "data": {
      "image/png": "[encoded data removed]",
      "text/plain": [
       "<Figure size 720x360 with 1 Axes>"
      ]
     },
     "metadata": {
      "needs_background": "light"
     },
     "output_type": "display_data"
    }
   ],
   "source": [
    "plt.figure(figsize=(10,5))\n",
    "plt.title(\"Training Loss and Accuracy\")\n",
    "plt.plot([el/100 for el in train_acc],label=\"accuracy\")\n",
    "plt.plot(train_losses,label=\"loss\")\n",
    "plt.xlabel(\"iterations\")\n",
    "plt.ylabel(\"Loss\")\n",
    "plt.legend()\n",
    "plt.show()"
   ]
  },
  {
   "cell_type": "code",
   "execution_count": null,
   "id": "b61af9f6-41a0-42bb-9bef-eef8c3b3f4c4",
   "metadata": {},
   "outputs": [],
   "source": []
  }
 ],
 "metadata": {
  "kernelspec": {
   "display_name": "Python 3",
   "language": "python",
   "name": "python3"
  },
  "language_info": {
   "codemirror_mode": {
    "name": "ipython",
    "version": 3
   },
   "file_extension": ".py",
   "mimetype": "text/x-python",
   "name": "python",
   "nbconvert_exporter": "python",
   "pygments_lexer": "ipython3",
   "version": "3.8.8"
  }
 },
 "nbformat": 4,
 "nbformat_minor": 5
}
